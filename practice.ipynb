{
 "cells": [
  {
   "cell_type": "code",
   "execution_count": 5,
   "metadata": {},
   "outputs": [
    {
     "name": "stdout",
     "output_type": "stream",
     "text": [
      "{'ok': 'no', 'okk': 'not', 'yes': 'true', 'none': 'false'}\n",
      "no\n",
      "dict_keys(['ok', 'okk', 'yes', 'none'])\n",
      "dict_values(['no', 'not', 'true', 'false'])\n"
     ]
    }
   ],
   "source": [
    "mabu={\n",
    "    'ok':'no',\n",
    "    'okk':'not',\n",
    "    'yes':'true',\n",
    "    'none':'false'\n",
    "     }\n",
    "print(mabu)\n",
    "print(mabu['ok'])\n",
    "print(mabu.keys())\n",
    "print(mabu.values())"
   ]
  },
  {
   "cell_type": "code",
   "execution_count": 13,
   "metadata": {},
   "outputs": [],
   "source": []
  },
  {
   "cell_type": "code",
   "execution_count": 22,
   "metadata": {},
   "outputs": [
    {
     "name": "stdout",
     "output_type": "stream",
     "text": [
      "Enter register to register new user data.\n",
      "      ENTER view to view existing data\n"
     ]
    },
    {
     "name": "stdin",
     "output_type": "stream",
     "text": [
      " register\n"
     ]
    },
    {
     "name": "stdout",
     "output_type": "stream",
     "text": [
      "Number is bigger than 2.\n"
     ]
    }
   ],
   "source": [
    "print(\"\"\"Enter register to register new user data.\n",
    "      ENTER view to view existing data\"\"\")\n",
    "if input()=='register':\n",
    "     print(\"Number is bigger than 2.\")\n",
    "elif input()=='view': \n",
    "     print(\"Number is smaller than 2.\")\n"
   ]
  },
  {
   "cell_type": "code",
   "execution_count": 19,
   "metadata": {},
   "outputs": [
    {
     "name": "stdin",
     "output_type": "stream",
     "text": [
      "type in enter enter\n"
     ]
    },
    {
     "name": "stdout",
     "output_type": "stream",
     "text": [
      "you pressed enter\n"
     ]
    }
   ],
   "source": [
    "#basic if else\n",
    "for input\n",
    "user =input(\"type in enter\")\n",
    "if user == \"enter\":\n",
    "    print (\"you pressed enter\")\n",
    "else:\n",
    "    print(\"you haven't pressed enter\")"
   ]
  },
  {
   "cell_type": "code",
   "execution_count": 5,
   "metadata": {},
   "outputs": [
    {
     "name": "stdout",
     "output_type": "stream",
     "text": [
      "{'ok': 'no', 'okk': 'not', 'yes': 'true', 'none': 'false'}\n",
      "no\n",
      "dict_keys(['ok', 'okk', 'yes', 'none'])\n",
      "dict_values(['no', 'not', 'true', 'false'])\n"
     ]
    }
   ],
   "source": [
    "# dictionary example\n",
    "mabu={\n",
    "    'ok':'no',\n",
    "    'okk':'not',\n",
    "    'yes':'true',\n",
    "    'none':'false'\n",
    "     }\n",
    "print(mabu)\n",
    "print(mabu['ok'])\n",
    "print(mabu.keys())\n",
    "print(mabu.values())"
   ]
  },
  {
   "cell_type": "code",
   "execution_count": 2,
   "metadata": {},
   "outputs": [
    {
     "ename": "SyntaxError",
     "evalue": "invalid syntax (<ipython-input-2-bee7f7781cad>, line 4)",
     "output_type": "error",
     "traceback": [
      "\u001b[1;36m  File \u001b[1;32m\"<ipython-input-2-bee7f7781cad>\"\u001b[1;36m, line \u001b[1;32m4\u001b[0m\n\u001b[1;33m    if (x%4==0) and ( x%100 ==0 and x%400 == -)\u001b[0m\n\u001b[1;37m                                              ^\u001b[0m\n\u001b[1;31mSyntaxError\u001b[0m\u001b[1;31m:\u001b[0m invalid syntax\n"
     ]
    }
   ],
   "source": []
  },
  {
   "cell_type": "code",
   "execution_count": 1,
   "metadata": {},
   "outputs": [
    {
     "name": "stdout",
     "output_type": "stream",
     "text": [
      "enter number for printing it's table\n"
     ]
    },
    {
     "name": "stdin",
     "output_type": "stream",
     "text": [
      " 1\n"
     ]
    },
    {
     "name": "stdout",
     "output_type": "stream",
     "text": [
      "0 '+' 1 '=' 1\n",
      "1 '+' 1 '=' 2\n",
      "2 '+' 1 '=' 3\n",
      "3 '+' 1 '=' 4\n",
      "4 '+' 1 '=' 5\n",
      "5 '+' 1 '=' 6\n",
      "6 '+' 1 '=' 7\n",
      "7 '+' 1 '=' 8\n",
      "8 '+' 1 '=' 9\n",
      "9 '+' 1 '=' 10\n"
     ]
    }
   ],
   "source": [
    "# printing table of number not using multiplication operator\n",
    "c =1\n",
    "sum = 0\n",
    "print(\"enter number for printing it's table\")\n",
    "a = int(input())\n",
    "while c<=10:\n",
    "    print(f\"{sum} '+' {a} '=' {sum +a}\")\n",
    "    sum = sum + a\n",
    "    c=c+1\n"
   ]
  },
  {
   "cell_type": "code",
   "execution_count": 4,
   "metadata": {},
   "outputs": [
    {
     "name": "stdout",
     "output_type": "stream",
     "text": [
      "5 10 15 20 25 30 35 40 45\n"
     ]
    }
   ],
   "source": [
    "# 1. indexing through variables\n",
    "start = 5\n",
    "end = 50\n",
    "step = 5\n",
    "l=[]\n",
    "print(*range(start,end,step))"
   ]
  },
  {
   "cell_type": "code",
   "execution_count": null,
   "metadata": {},
   "outputs": [],
   "source": [
    "# 2.\n"
   ]
  }
 ],
 "metadata": {
  "kernelspec": {
   "display_name": "Python 3",
   "language": "python",
   "name": "python3"
  },
  "language_info": {
   "codemirror_mode": {
    "name": "ipython",
    "version": 3
   },
   "file_extension": ".py",
   "mimetype": "text/x-python",
   "name": "python",
   "nbconvert_exporter": "python",
   "pygments_lexer": "ipython3",
   "version": "3.7.0"
  }
 },
 "nbformat": 4,
 "nbformat_minor": 2
}
